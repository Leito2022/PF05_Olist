{
 "cells": [
  {
   "attachments": {},
   "cell_type": "markdown",
   "metadata": {},
   "source": [
    "<h1 align='center'><strong>Machine Learning</strong></h1>\n",
    "<h1 align='center'>Aplicación: Review_score predecido por orden.</h1>"
   ]
  },
  {
   "attachments": {},
   "cell_type": "markdown",
   "metadata": {},
   "source": [
    "---"
   ]
  },
  {
   "attachments": {},
   "cell_type": "markdown",
   "metadata": {},
   "source": [
    "<h3 align='center'><u>Introducción:</u></h3>\n",
    "\n",
    "Para la aplicación Web que nos ayudará a predecir la review_score que tendrá una orden, comenzaremos analizando nuestros datos y armando diferentes clases y objetos de aprendizaje automático que nos ayudaran a la hora de insanciar nuestro modelo de Regresión,puntualmente, utilizaremos un Random Forest para predecir la review_score que tendrá una orden según los features que analizaremos a lo largo de este informe."
   ]
  },
  {
   "attachments": {},
   "cell_type": "markdown",
   "metadata": {},
   "source": [
    "---"
   ]
  },
  {
   "attachments": {},
   "cell_type": "markdown",
   "metadata": {},
   "source": [
    "<h3 align='center'><u>Primeros pasos:</u></h3>\n",
    "\n",
    "#### ◦ Comenzamos la creación de nuestro modelo importando las librerías y módulos a utilizar."
   ]
  },
  {
   "cell_type": "code",
   "execution_count": 24,
   "metadata": {},
   "outputs": [],
   "source": [
    "import pandas as pd\n",
    "import numpy as np\n",
    "from sklearn.model_selection import StratifiedShuffleSplit\n",
    "from workalendar.america import Brazil\n",
    "from sklearn.base import BaseEstimator, TransformerMixin\n",
    "from sklearn.pipeline import Pipeline\n",
    "from sklearn.preprocessing import StandardScaler\n",
    "from sklearn.ensemble import RandomForestRegressor\n",
    "from sklearn.metrics import mean_squared_error\n",
    "import matplotlib.pyplot as plt"
   ]
  },
  {
   "attachments": {},
   "cell_type": "markdown",
   "metadata": {},
   "source": [
    "#### ◦ Creo mi dataframe llamado \"df_score\" con los datos del archivo .csv anteriormente solicitado al área de Engineering y hago un pequeño análisis general de mis datos para corroborar que los mismos estén limpios y completos."
   ]
  },
  {
   "cell_type": "code",
   "execution_count": 64,
   "metadata": {},
   "outputs": [
    {
     "data": {
      "text/html": [
       "<div>\n",
       "<style scoped>\n",
       "    .dataframe tbody tr th:only-of-type {\n",
       "        vertical-align: middle;\n",
       "    }\n",
       "\n",
       "    .dataframe tbody tr th {\n",
       "        vertical-align: top;\n",
       "    }\n",
       "\n",
       "    .dataframe thead th {\n",
       "        text-align: right;\n",
       "    }\n",
       "</style>\n",
       "<table border=\"1\" class=\"dataframe\">\n",
       "  <thead>\n",
       "    <tr style=\"text-align: right;\">\n",
       "      <th></th>\n",
       "      <th>order_status</th>\n",
       "      <th>order_products_value</th>\n",
       "      <th>freight_value</th>\n",
       "      <th>order_item_id</th>\n",
       "      <th>order_purchase_timestamp</th>\n",
       "      <th>order_approved_at</th>\n",
       "      <th>order_estimated_delivery_date</th>\n",
       "      <th>order_delivered_customer_date</th>\n",
       "      <th>customer_state</th>\n",
       "      <th>product_category_name</th>\n",
       "      <th>product_name_lenght</th>\n",
       "      <th>product_description_lenght</th>\n",
       "      <th>product_photos_qty</th>\n",
       "      <th>review_score</th>\n",
       "    </tr>\n",
       "  </thead>\n",
       "  <tbody>\n",
       "    <tr>\n",
       "      <th>0</th>\n",
       "      <td>delivered</td>\n",
       "      <td>102</td>\n",
       "      <td>19</td>\n",
       "      <td>1</td>\n",
       "      <td>2018-05-20 18:45:21</td>\n",
       "      <td>2018-05-20 18:58:59</td>\n",
       "      <td>2018-06-20 00:00:00</td>\n",
       "      <td>2018-06-06 22:11:56</td>\n",
       "      <td>RS</td>\n",
       "      <td>perfumaria</td>\n",
       "      <td>53.0</td>\n",
       "      <td>596.0</td>\n",
       "      <td>6</td>\n",
       "      <td>5</td>\n",
       "    </tr>\n",
       "    <tr>\n",
       "      <th>1</th>\n",
       "      <td>delivered</td>\n",
       "      <td>130</td>\n",
       "      <td>14</td>\n",
       "      <td>1</td>\n",
       "      <td>2017-12-12 19:20:28</td>\n",
       "      <td>2017-12-12 19:32:19</td>\n",
       "      <td>2018-01-05 00:00:00</td>\n",
       "      <td>2017-12-23 17:11:51</td>\n",
       "      <td>SP</td>\n",
       "      <td>automotivo</td>\n",
       "      <td>56.0</td>\n",
       "      <td>752.0</td>\n",
       "      <td>4</td>\n",
       "      <td>4</td>\n",
       "    </tr>\n",
       "    <tr>\n",
       "      <th>2</th>\n",
       "      <td>delivered</td>\n",
       "      <td>229</td>\n",
       "      <td>13</td>\n",
       "      <td>1</td>\n",
       "      <td>2017-12-21 16:21:47</td>\n",
       "      <td>2017-12-22 17:31:27</td>\n",
       "      <td>2018-01-16 00:00:00</td>\n",
       "      <td>2018-01-06 15:03:41</td>\n",
       "      <td>SP</td>\n",
       "      <td>cama mesa banho</td>\n",
       "      <td>50.0</td>\n",
       "      <td>266.0</td>\n",
       "      <td>2</td>\n",
       "      <td>1</td>\n",
       "    </tr>\n",
       "    <tr>\n",
       "      <th>3</th>\n",
       "      <td>delivered</td>\n",
       "      <td>59</td>\n",
       "      <td>20</td>\n",
       "      <td>1</td>\n",
       "      <td>2018-08-10 13:24:35</td>\n",
       "      <td>2018-08-10 13:35:21</td>\n",
       "      <td>2018-08-27 00:00:00</td>\n",
       "      <td>2018-08-17 21:33:40</td>\n",
       "      <td>RS</td>\n",
       "      <td>utilidades domesticas</td>\n",
       "      <td>25.0</td>\n",
       "      <td>364.0</td>\n",
       "      <td>3</td>\n",
       "      <td>5</td>\n",
       "    </tr>\n",
       "    <tr>\n",
       "      <th>4</th>\n",
       "      <td>delivered</td>\n",
       "      <td>59</td>\n",
       "      <td>20</td>\n",
       "      <td>1</td>\n",
       "      <td>2018-08-01 22:00:33</td>\n",
       "      <td>2018-08-01 22:15:19</td>\n",
       "      <td>2018-08-24 00:00:00</td>\n",
       "      <td>2018-08-07 17:38:52</td>\n",
       "      <td>RS</td>\n",
       "      <td>utilidades domesticas</td>\n",
       "      <td>25.0</td>\n",
       "      <td>364.0</td>\n",
       "      <td>3</td>\n",
       "      <td>5</td>\n",
       "    </tr>\n",
       "    <tr>\n",
       "      <th>...</th>\n",
       "      <td>...</td>\n",
       "      <td>...</td>\n",
       "      <td>...</td>\n",
       "      <td>...</td>\n",
       "      <td>...</td>\n",
       "      <td>...</td>\n",
       "      <td>...</td>\n",
       "      <td>...</td>\n",
       "      <td>...</td>\n",
       "      <td>...</td>\n",
       "      <td>...</td>\n",
       "      <td>...</td>\n",
       "      <td>...</td>\n",
       "      <td>...</td>\n",
       "    </tr>\n",
       "    <tr>\n",
       "      <th>108460</th>\n",
       "      <td>delivered</td>\n",
       "      <td>30</td>\n",
       "      <td>18</td>\n",
       "      <td>1</td>\n",
       "      <td>2018-04-01 11:58:04</td>\n",
       "      <td>2018-04-03 05:35:27</td>\n",
       "      <td>2018-04-20 00:00:00</td>\n",
       "      <td>2018-04-20 20:56:36</td>\n",
       "      <td>GO</td>\n",
       "      <td>informatica acessorios</td>\n",
       "      <td>47.0</td>\n",
       "      <td>501.0</td>\n",
       "      <td>5</td>\n",
       "      <td>5</td>\n",
       "    </tr>\n",
       "    <tr>\n",
       "      <th>108461</th>\n",
       "      <td>delivered</td>\n",
       "      <td>35</td>\n",
       "      <td>18</td>\n",
       "      <td>1</td>\n",
       "      <td>2018-04-19 10:12:12</td>\n",
       "      <td>2018-04-19 10:34:35</td>\n",
       "      <td>2018-05-15 00:00:00</td>\n",
       "      <td>2018-04-25 17:58:54</td>\n",
       "      <td>MG</td>\n",
       "      <td>informatica acessorios</td>\n",
       "      <td>47.0</td>\n",
       "      <td>501.0</td>\n",
       "      <td>5</td>\n",
       "      <td>5</td>\n",
       "    </tr>\n",
       "    <tr>\n",
       "      <th>108462</th>\n",
       "      <td>delivered</td>\n",
       "      <td>35</td>\n",
       "      <td>8</td>\n",
       "      <td>1</td>\n",
       "      <td>2018-08-10 17:15:07</td>\n",
       "      <td>2018-08-10 17:25:18</td>\n",
       "      <td>2018-08-15 00:00:00</td>\n",
       "      <td>2018-08-14 20:50:53</td>\n",
       "      <td>SP</td>\n",
       "      <td>informatica acessorios</td>\n",
       "      <td>47.0</td>\n",
       "      <td>501.0</td>\n",
       "      <td>5</td>\n",
       "      <td>5</td>\n",
       "    </tr>\n",
       "    <tr>\n",
       "      <th>108463</th>\n",
       "      <td>delivered</td>\n",
       "      <td>35</td>\n",
       "      <td>7</td>\n",
       "      <td>1</td>\n",
       "      <td>2018-05-01 17:31:41</td>\n",
       "      <td>2018-05-01 17:53:01</td>\n",
       "      <td>2018-05-15 00:00:00</td>\n",
       "      <td>2018-05-03 18:32:48</td>\n",
       "      <td>SP</td>\n",
       "      <td>informatica acessorios</td>\n",
       "      <td>47.0</td>\n",
       "      <td>501.0</td>\n",
       "      <td>5</td>\n",
       "      <td>5</td>\n",
       "    </tr>\n",
       "    <tr>\n",
       "      <th>108464</th>\n",
       "      <td>delivered</td>\n",
       "      <td>250</td>\n",
       "      <td>54</td>\n",
       "      <td>1</td>\n",
       "      <td>2018-05-16 17:44:30</td>\n",
       "      <td>2018-05-16 17:58:18</td>\n",
       "      <td>2018-06-06 00:00:00</td>\n",
       "      <td>2018-06-08 01:32:39</td>\n",
       "      <td>TO</td>\n",
       "      <td>brinquedos</td>\n",
       "      <td>57.0</td>\n",
       "      <td>1536.0</td>\n",
       "      <td>3</td>\n",
       "      <td>4</td>\n",
       "    </tr>\n",
       "  </tbody>\n",
       "</table>\n",
       "<p>108465 rows × 14 columns</p>\n",
       "</div>"
      ],
      "text/plain": [
       "       order_status  order_products_value  freight_value  order_item_id  \\\n",
       "0         delivered                   102             19              1   \n",
       "1         delivered                   130             14              1   \n",
       "2         delivered                   229             13              1   \n",
       "3         delivered                    59             20              1   \n",
       "4         delivered                    59             20              1   \n",
       "...             ...                   ...            ...            ...   \n",
       "108460    delivered                    30             18              1   \n",
       "108461    delivered                    35             18              1   \n",
       "108462    delivered                    35              8              1   \n",
       "108463    delivered                    35              7              1   \n",
       "108464    delivered                   250             54              1   \n",
       "\n",
       "       order_purchase_timestamp    order_approved_at  \\\n",
       "0           2018-05-20 18:45:21  2018-05-20 18:58:59   \n",
       "1           2017-12-12 19:20:28  2017-12-12 19:32:19   \n",
       "2           2017-12-21 16:21:47  2017-12-22 17:31:27   \n",
       "3           2018-08-10 13:24:35  2018-08-10 13:35:21   \n",
       "4           2018-08-01 22:00:33  2018-08-01 22:15:19   \n",
       "...                         ...                  ...   \n",
       "108460      2018-04-01 11:58:04  2018-04-03 05:35:27   \n",
       "108461      2018-04-19 10:12:12  2018-04-19 10:34:35   \n",
       "108462      2018-08-10 17:15:07  2018-08-10 17:25:18   \n",
       "108463      2018-05-01 17:31:41  2018-05-01 17:53:01   \n",
       "108464      2018-05-16 17:44:30  2018-05-16 17:58:18   \n",
       "\n",
       "       order_estimated_delivery_date order_delivered_customer_date  \\\n",
       "0                2018-06-20 00:00:00           2018-06-06 22:11:56   \n",
       "1                2018-01-05 00:00:00           2017-12-23 17:11:51   \n",
       "2                2018-01-16 00:00:00           2018-01-06 15:03:41   \n",
       "3                2018-08-27 00:00:00           2018-08-17 21:33:40   \n",
       "4                2018-08-24 00:00:00           2018-08-07 17:38:52   \n",
       "...                              ...                           ...   \n",
       "108460           2018-04-20 00:00:00           2018-04-20 20:56:36   \n",
       "108461           2018-05-15 00:00:00           2018-04-25 17:58:54   \n",
       "108462           2018-08-15 00:00:00           2018-08-14 20:50:53   \n",
       "108463           2018-05-15 00:00:00           2018-05-03 18:32:48   \n",
       "108464           2018-06-06 00:00:00           2018-06-08 01:32:39   \n",
       "\n",
       "       customer_state   product_category_name  product_name_lenght  \\\n",
       "0                  RS              perfumaria                 53.0   \n",
       "1                  SP              automotivo                 56.0   \n",
       "2                  SP         cama mesa banho                 50.0   \n",
       "3                  RS   utilidades domesticas                 25.0   \n",
       "4                  RS   utilidades domesticas                 25.0   \n",
       "...               ...                     ...                  ...   \n",
       "108460             GO  informatica acessorios                 47.0   \n",
       "108461             MG  informatica acessorios                 47.0   \n",
       "108462             SP  informatica acessorios                 47.0   \n",
       "108463             SP  informatica acessorios                 47.0   \n",
       "108464             TO              brinquedos                 57.0   \n",
       "\n",
       "        product_description_lenght  product_photos_qty  review_score  \n",
       "0                            596.0                   6             5  \n",
       "1                            752.0                   4             4  \n",
       "2                            266.0                   2             1  \n",
       "3                            364.0                   3             5  \n",
       "4                            364.0                   3             5  \n",
       "...                            ...                 ...           ...  \n",
       "108460                       501.0                   5             5  \n",
       "108461                       501.0                   5             5  \n",
       "108462                       501.0                   5             5  \n",
       "108463                       501.0                   5             5  \n",
       "108464                      1536.0                   3             4  \n",
       "\n",
       "[108465 rows x 14 columns]"
      ]
     },
     "execution_count": 64,
     "metadata": {},
     "output_type": "execute_result"
    }
   ],
   "source": [
    "df_score = pd.read_csv(\"datasets\\\\ML_table_score_limpio.csv\", delimiter = ',', encoding = \"utf-8\")\n",
    "df_score = df_score.drop(columns='seller_id')\n",
    "df_score"
   ]
  },
  {
   "cell_type": "code",
   "execution_count": 70,
   "metadata": {},
   "outputs": [
    {
     "name": "stdout",
     "output_type": "stream",
     "text": [
      "<class 'pandas.core.frame.DataFrame'>\n",
      "RangeIndex: 108465 entries, 0 to 108464\n",
      "Data columns (total 14 columns):\n",
      " #   Column                         Non-Null Count   Dtype  \n",
      "---  ------                         --------------   -----  \n",
      " 0   order_status                   108465 non-null  object \n",
      " 1   order_products_value           108465 non-null  int64  \n",
      " 2   freight_value                  108465 non-null  int64  \n",
      " 3   order_item_id                  108465 non-null  int64  \n",
      " 4   order_purchase_timestamp       108465 non-null  object \n",
      " 5   order_approved_at              108465 non-null  object \n",
      " 6   order_estimated_delivery_date  108465 non-null  object \n",
      " 7   order_delivered_customer_date  108465 non-null  object \n",
      " 8   customer_state                 108465 non-null  object \n",
      " 9   product_category_name          108465 non-null  object \n",
      " 10  product_name_lenght            108465 non-null  float64\n",
      " 11  product_description_lenght     108465 non-null  float64\n",
      " 12  product_photos_qty             108465 non-null  int64  \n",
      " 13  review_score                   108465 non-null  int64  \n",
      "dtypes: float64(2), int64(5), object(7)\n",
      "memory usage: 11.6+ MB\n"
     ]
    }
   ],
   "source": [
    "df_score.info()"
   ]
  },
  {
   "attachments": {},
   "cell_type": "markdown",
   "metadata": {},
   "source": [
    "#### ◦ Aplicamos unas pequeñas transformaciones a nuestras columnas con datos de fecha:"
   ]
  },
  {
   "cell_type": "code",
   "execution_count": 15,
   "metadata": {},
   "outputs": [],
   "source": [
    "# Convierto mis columnas de fechas a un formato datetime para que el modelo pueda trabajar con estos datos.\n",
    "df_score['order_purchase_timestamp'] = pd.to_datetime(df_score.order_purchase_timestamp)\n",
    "df_score['order_approved_at'] = pd.to_datetime(df_score.order_approved_at).dt.date  \n",
    "df_score['order_estimated_delivery_date'] = pd.to_datetime(df_score.order_estimated_delivery_date).dt.date  \n",
    "df_score['order_delivered_customer_date'] = pd.to_datetime(df_score.order_delivered_customer_date).dt.date "
   ]
  },
  {
   "attachments": {},
   "cell_type": "markdown",
   "metadata": {},
   "source": [
    "#### ◦ Dividimos nuestros datos intentando que mantengan una representación proporcional de nuestra columna objetivo 'review_score'."
   ]
  },
  {
   "cell_type": "code",
   "execution_count": 16,
   "metadata": {},
   "outputs": [
    {
     "data": {
      "image/png": "[encoded data removed]",
      "text/plain": [
       "<Figure size 640x480 with 1 Axes>"
      ]
     },
     "metadata": {},
     "output_type": "display_data"
    }
   ],
   "source": [
    "# Calculo la frecuencia de cada clase en el conjunto de datos\n",
    "class_counts = df_score['review_score'].value_counts()\n",
    "\n",
    "# Creo un gráfico de barras para mostrar la distribución de mi clase 'review_score'.\n",
    "plt.bar(class_counts.index, class_counts.values)\n",
    "plt.xlabel('review_score')\n",
    "plt.ylabel('Frecuencia')\n",
    "plt.title('Distribución de review_score df general')\n",
    "plt.show()"
   ]
  },
  {
   "cell_type": "code",
   "execution_count": 17,
   "metadata": {},
   "outputs": [],
   "source": [
    "# Realizo un muestreo estratificado de los datos, esto lo hago para que mis dos conjuntos, el de testeo y el de entrenamiento, tengan una representación proporcional de los datos ya que nuestra clase 'review_score' está desequilibrada.\n",
    "split = StratifiedShuffleSplit(n_splits=1, test_size=0.2, random_state=42)\n",
    "for train_index, test_index in split.split(df_score, df_score['review_score']):\n",
    "    strat_train_set = df_score.loc[train_index]\n",
    "    strat_test_set = df_score.loc[test_index]"
   ]
  },
  {
   "cell_type": "code",
   "execution_count": 18,
   "metadata": {},
   "outputs": [
    {
     "data": {
      "image/png": "[encoded data removed]",
      "text/plain": [
       "<Figure size 640x480 with 1 Axes>"
      ]
     },
     "metadata": {},
     "output_type": "display_data"
    }
   ],
   "source": [
    "# Calculo la frecuencia de cada clase en el nuevo conjunto de datos de testeo\n",
    "class_counts = strat_test_set['review_score'].value_counts()\n",
    "\n",
    "# Creo un gráfico de barras para mostrar la distribución de mi clase 'review_score'\n",
    "plt.bar(class_counts.index, class_counts.values)\n",
    "plt.xlabel('review_score')\n",
    "plt.ylabel('Frecuencia')\n",
    "plt.title('Distribución de review_score split de datos de testeo')\n",
    "plt.show()"
   ]
  },
  {
   "attachments": {},
   "cell_type": "markdown",
   "metadata": {},
   "source": [
    "---"
   ]
  },
  {
   "attachments": {},
   "cell_type": "markdown",
   "metadata": {},
   "source": [
    "#### ◦ Luego de analizar de manera general nuestros datos y dividirlos de forma estratificada, comenzamos con el análisis de features."
   ]
  },
  {
   "cell_type": "code",
   "execution_count": 19,
   "metadata": {},
   "outputs": [],
   "source": [
    "# Separamos las etiquetas de las features/características ya que no queremos aplicar transformaciones a nuestras etiquetas, sino a los datos.\n",
    "score_features = strat_train_set.drop('review_score', axis=1)\n",
    "score_labels = strat_train_set['review_score'].copy()"
   ]
  },
  {
   "cell_type": "code",
   "execution_count": 20,
   "metadata": {},
   "outputs": [
    {
     "name": "stderr",
     "output_type": "stream",
     "text": [
      "C:\\Users\\Emmanuel\\AppData\\Local\\Temp\\ipykernel_21240\\1980408908.py:2: FutureWarning: The default value of numeric_only in DataFrame.corr is deprecated. In a future version, it will default to False. Select only valid columns or specify the value of numeric_only to silence this warning.\n",
      "  corr_matrix = strat_train_set.corr()\n"
     ]
    },
    {
     "data": {
      "text/plain": [
       "review_score                  1.000000\n",
       "product_photos_qty            0.022973\n",
       "product_description_lenght    0.014287\n",
       "order_products_value          0.004004\n",
       "product_name_lenght          -0.012336\n",
       "freight_value                -0.036380\n",
       "order_item_id                -0.136540\n",
       "Name: review_score, dtype: float64"
      ]
     },
     "execution_count": 20,
     "metadata": {},
     "output_type": "execute_result"
    }
   ],
   "source": [
    "# Verificamos la correlación de nuestros datos con 'review_score'.\n",
    "corr_matrix = strat_train_set.corr()\n",
    "corr_matrix['review_score'].sort_values(ascending=False)"
   ]
  },
  {
   "attachments": {},
   "cell_type": "markdown",
   "metadata": {},
   "source": [
    "#### ◦ Podemos sacar como deducción que para continuar con el modelo necesitamos implementar nuevas features que ayuden a correlacionar más nuestros datos, para ello planteamos agregar las siguientes columnas:\n",
    "\n",
    "+ Tiempo estimado de entrega en días hábiles: 'tiempo_envio_estimado'\n",
    "Un comprador puede estar poco satisfecho si el tiempo estimado de entrega es alto.\n",
    "\n",
    "+ Tiempo real de entrega en días hábiles: 'tiempo_envio_real'\n",
    "Un comprador puede estar más satisfecho si su producto llega antes de lo esperado.\n",
    "\n",
    "+ Delta de tiempo de entrega en días hábiles: 'delta_tiempo_envio'\n",
    "Diferencia entre la fecha estimada y la fecha real del envío, si este valor es negativo la entrega se hizo antes del tiempo estimado, si es positivo, el envío tardó más de lo estimado.\n",
    "\n",
    "+ Entrega tardía: 'entrega_tardia'\n",
    "False si el pedido llegó antes de tiempo, True si el pedido se atrasó al tiempo estimado.\n",
    "\n",
    "+ Precio total del pedido: 'precio_total'\n",
    "Un comprador puede estar más o menos satisfecho según el precio total de su pedido.\n",
    "\n",
    "+ Relación precio envio/producto: 'relacion_envio_producto'\n",
    "Un comprador puede esperar un mejor servicio logístico si el precio del producto es alto."
   ]
  },
  {
   "cell_type": "code",
   "execution_count": 21,
   "metadata": {},
   "outputs": [],
   "source": [
    "# Creamos la variable cal utilizando la librería workalendar.america para extraer los días hábiles en Brasil y en base a eso calcular los tiempos de envío.\n",
    "cal = Brazil()"
   ]
  },
  {
   "attachments": {},
   "cell_type": "markdown",
   "metadata": {},
   "source": [
    "#### ◦ Para asegurarnos de que todos los datos que analicemos sufran las mismas transformaciones, definimos una clase con la ayuda de los módulos BaseEstimator y TransformerMixin de scikit learn."
   ]
  },
  {
   "attachments": {},
   "cell_type": "markdown",
   "metadata": {},
   "source": [
    "La clase 'NewFeatures()' hereda de las clases BaseEstimator y TransformerMixin de scikit-learn. Esta clase define un modelo que se utiliza para añadir nuevas características o atributos a un conjunto de datos.\n",
    "\n",
    "Los métodos fit() y transform() son los métodos clave de esta clase. El método fit() se utiliza para ajustar el objeto de aprendizaje automático a los datos de entrada, mientras que el método transform() se utiliza para aplicar la transformación a los datos de entrada y devolver el conjunto de datos transformado. En este caso, el método transform() hace lo siguiente:\n",
    "\n",
    "+ Crea una copia del conjunto de datos de entrada (X) y lo almacena en una variable llamada \"df\"\n",
    "+ Calcula el tiempo estimado y real del envío en días hábiles para desestimar feriados y fines de semana que no influyen en la entrega.\n",
    "+ Crea una nueva columna \"delta_tiempo_envio\" que es la diferencia entre el tiempo estimado y el tiempo real de envío.\n",
    "+ Crea una nueva columna \"entrega_tardía\" que indica si la entrega fue tardía o no.\n",
    "+ Calcula el precio total de la orden\n",
    "+ Calcula la relación entre precio logística con precio del producto\n",
    "+ Remueve las columnas con formato fecha del conjunto de datos\n",
    "+ Devuelve el conjunto de datos transformado\n",
    "\n",
    "Como resumen, la clase 'NewFeatures()' se utiliza para añadir nuevas características al conjunto de datos, aumentando la cantidad de información disponible para el modelo y buscando mejorar la precisión del mismo más adelante."
   ]
  },
  {
   "cell_type": "code",
   "execution_count": 26,
   "metadata": {},
   "outputs": [],
   "source": [
    "class NewFeatures(BaseEstimator, TransformerMixin):\n",
    "    def __init__(self):\n",
    "        pass    \n",
    "    \n",
    "    def fit(self, X, y=None):\n",
    "        return self\n",
    "    \n",
    "    def transform(self, X, y=None):\n",
    "        df = X.copy()\n",
    "        \n",
    "        # Calculo el tiempo estimado y real del envío en días hábiles para desestimar feriados y fines de semana que no influyen en la entrega.\n",
    "        df['tiempo_envio_estimado'] = df.apply(lambda x: cal.get_working_days_delta(x.order_approved_at, \n",
    "                                                                                      x.order_estimated_delivery_date), axis=1)\n",
    "        df['tiempo_envio_real'] = df.apply(lambda x: cal.get_working_days_delta(x.order_approved_at, \n",
    "                                                                                   x.order_delivered_customer_date), axis=1)\n",
    "        df['delta_tiempo_envio'] = df.tiempo_envio_real - df.tiempo_envio_estimado\n",
    "        df['entrega_tardia'] = df.order_delivered_customer_date > df.order_estimated_delivery_date\n",
    "\n",
    "        # Calculo el precio total de la orden\n",
    "        df['precio_total'] = df.order_products_value + df.freight_value\n",
    "        \n",
    "        # Calculo la relacion precio logística con precio del producto\n",
    "        df['relacion_envio_producto'] = df.freight_value / df.order_products_value\n",
    "                       \n",
    "        # Remuevo las columnas con formato fecha de mi dataset\n",
    "        cols2drop = ['order_purchase_timestamp', 'order_approved_at', 'order_estimated_delivery_date', \n",
    "                     'order_delivered_customer_date']\n",
    "        df.drop(cols2drop, axis=1, inplace=True)\n",
    "\n",
    "        return df\n",
    "        "
   ]
  },
  {
   "cell_type": "code",
   "execution_count": 27,
   "metadata": {},
   "outputs": [
    {
     "data": {
      "text/html": [
       "<div>\n",
       "<style scoped>\n",
       "    .dataframe tbody tr th:only-of-type {\n",
       "        vertical-align: middle;\n",
       "    }\n",
       "\n",
       "    .dataframe tbody tr th {\n",
       "        vertical-align: top;\n",
       "    }\n",
       "\n",
       "    .dataframe thead th {\n",
       "        text-align: right;\n",
       "    }\n",
       "</style>\n",
       "<table border=\"1\" class=\"dataframe\">\n",
       "  <thead>\n",
       "    <tr style=\"text-align: right;\">\n",
       "      <th></th>\n",
       "      <th>order_status</th>\n",
       "      <th>order_products_value</th>\n",
       "      <th>freight_value</th>\n",
       "      <th>order_item_id</th>\n",
       "      <th>customer_state</th>\n",
       "      <th>product_category_name</th>\n",
       "      <th>product_name_lenght</th>\n",
       "      <th>product_description_lenght</th>\n",
       "      <th>product_photos_qty</th>\n",
       "      <th>review_score</th>\n",
       "      <th>tiempo_envio_estimado</th>\n",
       "      <th>tiempo_envio_real</th>\n",
       "      <th>delta_tiempo_envio</th>\n",
       "      <th>entrega_tardia</th>\n",
       "      <th>precio_total</th>\n",
       "      <th>relacion_envio_producto</th>\n",
       "    </tr>\n",
       "  </thead>\n",
       "  <tbody>\n",
       "    <tr>\n",
       "      <th>69425</th>\n",
       "      <td>delivered</td>\n",
       "      <td>189</td>\n",
       "      <td>21</td>\n",
       "      <td>2</td>\n",
       "      <td>RJ</td>\n",
       "      <td>informatica acessorios</td>\n",
       "      <td>44.0</td>\n",
       "      <td>273.0</td>\n",
       "      <td>1</td>\n",
       "      <td>1</td>\n",
       "      <td>24</td>\n",
       "      <td>7</td>\n",
       "      <td>-17</td>\n",
       "      <td>False</td>\n",
       "      <td>210</td>\n",
       "      <td>0.111111</td>\n",
       "    </tr>\n",
       "    <tr>\n",
       "      <th>16369</th>\n",
       "      <td>delivered</td>\n",
       "      <td>49</td>\n",
       "      <td>18</td>\n",
       "      <td>1</td>\n",
       "      <td>PR</td>\n",
       "      <td>relogios presentes</td>\n",
       "      <td>60.0</td>\n",
       "      <td>539.0</td>\n",
       "      <td>9</td>\n",
       "      <td>5</td>\n",
       "      <td>8</td>\n",
       "      <td>3</td>\n",
       "      <td>-5</td>\n",
       "      <td>False</td>\n",
       "      <td>67</td>\n",
       "      <td>0.367347</td>\n",
       "    </tr>\n",
       "    <tr>\n",
       "      <th>88028</th>\n",
       "      <td>delivered</td>\n",
       "      <td>40</td>\n",
       "      <td>9</td>\n",
       "      <td>1</td>\n",
       "      <td>PR</td>\n",
       "      <td>moveis decoracao</td>\n",
       "      <td>56.0</td>\n",
       "      <td>262.0</td>\n",
       "      <td>1</td>\n",
       "      <td>5</td>\n",
       "      <td>8</td>\n",
       "      <td>1</td>\n",
       "      <td>-7</td>\n",
       "      <td>False</td>\n",
       "      <td>49</td>\n",
       "      <td>0.225000</td>\n",
       "    </tr>\n",
       "  </tbody>\n",
       "</table>\n",
       "</div>"
      ],
      "text/plain": [
       "      order_status  order_products_value  freight_value  order_item_id  \\\n",
       "69425    delivered                   189             21              2   \n",
       "16369    delivered                    49             18              1   \n",
       "88028    delivered                    40              9              1   \n",
       "\n",
       "      customer_state   product_category_name  product_name_lenght  \\\n",
       "69425             RJ  informatica acessorios                 44.0   \n",
       "16369             PR      relogios presentes                 60.0   \n",
       "88028             PR        moveis decoracao                 56.0   \n",
       "\n",
       "       product_description_lenght  product_photos_qty  review_score  \\\n",
       "69425                       273.0                   1             1   \n",
       "16369                       539.0                   9             5   \n",
       "88028                       262.0                   1             5   \n",
       "\n",
       "       tiempo_envio_estimado  tiempo_envio_real  delta_tiempo_envio  \\\n",
       "69425                     24                  7                 -17   \n",
       "16369                      8                  3                  -5   \n",
       "88028                      8                  1                  -7   \n",
       "\n",
       "       entrega_tardia  precio_total  relacion_envio_producto  \n",
       "69425           False           210                 0.111111  \n",
       "16369           False            67                 0.367347  \n",
       "88028           False            49                 0.225000  "
      ]
     },
     "execution_count": 27,
     "metadata": {},
     "output_type": "execute_result"
    }
   ],
   "source": [
    "# Aplico la clase NewFeatures() y le paso la muestra estratificada de datos de entrenamiento.\n",
    "new_ft = NewFeatures()\n",
    "feat_eng = new_ft.transform(strat_train_set)\n",
    "feat_eng.head(3)"
   ]
  },
  {
   "attachments": {},
   "cell_type": "markdown",
   "metadata": {},
   "source": [
    "#### ◦ Verificamos la correlación de nuestros datos con 'review_score' ahora que contamos con más features. Seguimos sin encontrar ninguna correlación evidente, pero gracias a la correlación negativa que hay con 'entrega_tardia' podemos notar que si un comprador recibe su producto luego de lo esperado, es probable que puntúe mal el producto."
   ]
  },
  {
   "cell_type": "code",
   "execution_count": 29,
   "metadata": {},
   "outputs": [
    {
     "name": "stderr",
     "output_type": "stream",
     "text": [
      "C:\\Users\\Emmanuel\\AppData\\Local\\Temp\\ipykernel_21240\\3399845013.py:2: FutureWarning: The default value of numeric_only in DataFrame.corr is deprecated. In a future version, it will default to False. Select only valid columns or specify the value of numeric_only to silence this warning.\n",
      "  corr_matrix = feat_eng.corr()\n"
     ]
    },
    {
     "data": {
      "text/plain": [
       "review_score                  1.000000\n",
       "product_photos_qty            0.022973\n",
       "product_description_lenght    0.014287\n",
       "order_products_value          0.004004\n",
       "precio_total                  0.000817\n",
       "product_name_lenght          -0.012336\n",
       "freight_value                -0.036380\n",
       "relacion_envio_producto      -0.041405\n",
       "tiempo_envio_estimado        -0.062558\n",
       "order_item_id                -0.136540\n",
       "delta_tiempo_envio           -0.228294\n",
       "tiempo_envio_real            -0.307319\n",
       "entrega_tardia               -0.359209\n",
       "Name: review_score, dtype: float64"
      ]
     },
     "execution_count": 29,
     "metadata": {},
     "output_type": "execute_result"
    }
   ],
   "source": [
    "corr_matrix = feat_eng.corr()\n",
    "corr_matrix['review_score'].sort_values(ascending=False)"
   ]
  },
  {
   "cell_type": "code",
   "execution_count": 39,
   "metadata": {},
   "outputs": [],
   "source": [
    "# Separo mis datos por variables categóricas y numéricas.\n",
    "cat_var = ['order_status', 'customer_state', 'product_category_name']\n",
    "num_var = score_features.drop(cat_var, axis=1).columns"
   ]
  },
  {
   "cell_type": "code",
   "execution_count": 46,
   "metadata": {},
   "outputs": [],
   "source": [
    "# Creo una clase 'FtSelector()' para seleccionar un subconjunto específico de features de un conjunto de datos, lo que es útil para reducir el tiempo de entrenamiento y mejorar la precisión del modelo al trabajar con un conjunto de características más pequeño y relevante.\n",
    "class FtSelector(BaseEstimator, TransformerMixin):\n",
    "    def __init__(self, var_names):\n",
    "        self.var_names = var_names\n",
    "    \n",
    "    def fit(self, X, y=None):\n",
    "        return self\n",
    "    \n",
    "    def transform(self, X, y=None):\n",
    "        return X[self.var_names]"
   ]
  },
  {
   "attachments": {},
   "cell_type": "markdown",
   "metadata": {},
   "source": [
    "---"
   ]
  },
  {
   "attachments": {},
   "cell_type": "markdown",
   "metadata": {},
   "source": [
    "<h3 align='center'><u>Pipeline:</u></h3>\n",
    "\n",
    "Creo un objeto Pipeline con la ayuda de scikit-learn para indicar una serie de pasos de procesamiento de datos que se deben ejecutar en orden. Cada paso en el pipeline se especifica como un par nombre-objeto, donde el nombre es un identificador único para el paso y el objeto es el objeto de aprendizaje automático o clase personalizada que se utiliza para realizar el paso.\n",
    "\n",
    "En este caso, el pipeline num_pipeline tiene tres pasos:\n",
    "\n",
    "+ selector: Este paso utiliza la clase FtSelector para seleccionar un subconjunto de características numéricas del conjunto de datos.\n",
    "+ new_features: Este paso utiliza la clase NewFeatures para agregar nuevas características al conjunto de datos.\n",
    "+ std_scaller: Este paso utiliza la clase StandardScaler para normalizar las características numéricas, esto es escalar cada característica para tener una media de cero y una desviación estándar de uno.\n",
    "\n",
    "El resultado final es un conjunto de datos transformado que se utilizará para entrenar o evaluar un modelo de aprendizaje automático."
   ]
  },
  {
   "cell_type": "code",
   "execution_count": 47,
   "metadata": {},
   "outputs": [],
   "source": [
    "# Creo mi objeto Pipeline y le indico los pasos que debe cumplir.\n",
    "num_pipeline = Pipeline([('selector', FtSelector(num_var)),\n",
    "                         ('new_features', NewFeatures()),\n",
    "                         ('std_scaller', StandardScaler())\n",
    "                        ])"
   ]
  },
  {
   "cell_type": "code",
   "execution_count": 65,
   "metadata": {},
   "outputs": [
    {
     "data": {
      "text/plain": [
       "array([[ 0.3764499 ,  0.0622035 ,  1.1553757 , ..., -0.26295886,\n",
       "         0.3675509 , -0.59946258],\n",
       "       [-0.39014862, -0.12718988, -0.28321949, ..., -0.26295886,\n",
       "        -0.38616243,  0.1351233 ],\n",
       "       [-0.43942996, -0.69537001, -0.28321949, ..., -0.26295886,\n",
       "        -0.48103544, -0.27296191],\n",
       "       ...,\n",
       "       [-0.47228418, -0.37971438, -0.28321949, ..., -0.26295886,\n",
       "        -0.48630616,  0.26246172],\n",
       "       [-0.32991588, -0.25345213, -0.28321949, ...,  3.8028762 ,\n",
       "        -0.33872593, -0.15351044],\n",
       "       [-0.60917677, -0.31658326, -0.28321949, ..., -0.26295886,\n",
       "        -0.6128035 ,  3.86005878]])"
      ]
     },
     "execution_count": 65,
     "metadata": {},
     "output_type": "execute_result"
    }
   ],
   "source": [
    "# Ingestamos nuestro 'score_features' en el pipeline para que sufra las transformaciones necesarias para ser analizado por nuestro modelo.\n",
    "score_features_transformed = num_pipeline.fit_transform(score_features)\n",
    "score_features_transformed"
   ]
  },
  {
   "attachments": {},
   "cell_type": "markdown",
   "metadata": {},
   "source": [
    "---"
   ]
  },
  {
   "attachments": {},
   "cell_type": "markdown",
   "metadata": {},
   "source": [
    "<h3 align='center'><u>Modelo de regresión: Random Forest</u></h3>\n",
    "\n",
    "#### ◦ Utilizaremos un modelo de Regresión Random Forest para intentar predecir el review_score que obtendrá una orden basandonos en el conjunto de features que analizamos a lo largo del informe. la lógica detrás de este modelo es construir varios árboles de decisión y combinarlos para obtener una mejor precisión en la predicción. Cada árbol de decisión se construye a partir de un subconjunto aleatorio de características y un subconjunto aleatorio de muestras de entrenamiento. Al combinar varios árboles de decisión, se obtiene una mejor precisión debido a que los errores individuales de cada árbol se promedian y se reduce la varianza en las predicciones."
   ]
  },
  {
   "cell_type": "code",
   "execution_count": 66,
   "metadata": {},
   "outputs": [
    {
     "data": {
      "text/html": [
       "<style>#sk-container-id-1 {color: black;background-color: white;}#sk-container-id-1 pre{padding: 0;}#sk-container-id-1 div.sk-toggleable {background-color: white;}#sk-container-id-1 label.sk-toggleable__label {cursor: pointer;display: block;width: 100%;margin-bottom: 0;padding: 0.3em;box-sizing: border-box;text-align: center;}#sk-container-id-1 label.sk-toggleable__label-arrow:before {content: \"▸\";float: left;margin-right: 0.25em;color: #696969;}#sk-container-id-1 label.sk-toggleable__label-arrow:hover:before {color: black;}#sk-container-id-1 div.sk-estimator:hover label.sk-toggleable__label-arrow:before {color: black;}#sk-container-id-1 div.sk-toggleable__content {max-height: 0;max-width: 0;overflow: hidden;text-align: left;background-color: #f0f8ff;}#sk-container-id-1 div.sk-toggleable__content pre {margin: 0.2em;color: black;border-radius: 0.25em;background-color: #f0f8ff;}#sk-container-id-1 input.sk-toggleable__control:checked~div.sk-toggleable__content {max-height: 200px;max-width: 100%;overflow: auto;}#sk-container-id-1 input.sk-toggleable__control:checked~label.sk-toggleable__label-arrow:before {content: \"▾\";}#sk-container-id-1 div.sk-estimator input.sk-toggleable__control:checked~label.sk-toggleable__label {background-color: #d4ebff;}#sk-container-id-1 div.sk-label input.sk-toggleable__control:checked~label.sk-toggleable__label {background-color: #d4ebff;}#sk-container-id-1 input.sk-hidden--visually {border: 0;clip: rect(1px 1px 1px 1px);clip: rect(1px, 1px, 1px, 1px);height: 1px;margin: -1px;overflow: hidden;padding: 0;position: absolute;width: 1px;}#sk-container-id-1 div.sk-estimator {font-family: monospace;background-color: #f0f8ff;border: 1px dotted black;border-radius: 0.25em;box-sizing: border-box;margin-bottom: 0.5em;}#sk-container-id-1 div.sk-estimator:hover {background-color: #d4ebff;}#sk-container-id-1 div.sk-parallel-item::after {content: \"\";width: 100%;border-bottom: 1px solid gray;flex-grow: 1;}#sk-container-id-1 div.sk-label:hover label.sk-toggleable__label {background-color: #d4ebff;}#sk-container-id-1 div.sk-serial::before {content: \"\";position: absolute;border-left: 1px solid gray;box-sizing: border-box;top: 0;bottom: 0;left: 50%;z-index: 0;}#sk-container-id-1 div.sk-serial {display: flex;flex-direction: column;align-items: center;background-color: white;padding-right: 0.2em;padding-left: 0.2em;position: relative;}#sk-container-id-1 div.sk-item {position: relative;z-index: 1;}#sk-container-id-1 div.sk-parallel {display: flex;align-items: stretch;justify-content: center;background-color: white;position: relative;}#sk-container-id-1 div.sk-item::before, #sk-container-id-1 div.sk-parallel-item::before {content: \"\";position: absolute;border-left: 1px solid gray;box-sizing: border-box;top: 0;bottom: 0;left: 50%;z-index: -1;}#sk-container-id-1 div.sk-parallel-item {display: flex;flex-direction: column;z-index: 1;position: relative;background-color: white;}#sk-container-id-1 div.sk-parallel-item:first-child::after {align-self: flex-end;width: 50%;}#sk-container-id-1 div.sk-parallel-item:last-child::after {align-self: flex-start;width: 50%;}#sk-container-id-1 div.sk-parallel-item:only-child::after {width: 0;}#sk-container-id-1 div.sk-dashed-wrapped {border: 1px dashed gray;margin: 0 0.4em 0.5em 0.4em;box-sizing: border-box;padding-bottom: 0.4em;background-color: white;}#sk-container-id-1 div.sk-label label {font-family: monospace;font-weight: bold;display: inline-block;line-height: 1.2em;}#sk-container-id-1 div.sk-label-container {text-align: center;}#sk-container-id-1 div.sk-container {/* jupyter's `normalize.less` sets `[hidden] { display: none; }` but bootstrap.min.css set `[hidden] { display: none !important; }` so we also need the `!important` here to be able to override the default hidden behavior on the sphinx rendered scikit-learn.org. See: https://github.com/scikit-learn/scikit-learn/issues/21755 */display: inline-block !important;position: relative;}#sk-container-id-1 div.sk-text-repr-fallback {display: none;}</style><div id=\"sk-container-id-1\" class=\"sk-top-container\"><div class=\"sk-text-repr-fallback\"><pre>RandomForestRegressor()</pre><b>In a Jupyter environment, please rerun this cell to show the HTML representation or trust the notebook. <br />On GitHub, the HTML representation is unable to render, please try loading this page with nbviewer.org.</b></div><div class=\"sk-container\" hidden><div class=\"sk-item\"><div class=\"sk-estimator sk-toggleable\"><input class=\"sk-toggleable__control sk-hidden--visually\" id=\"sk-estimator-id-1\" type=\"checkbox\" checked><label for=\"sk-estimator-id-1\" class=\"sk-toggleable__label sk-toggleable__label-arrow\">RandomForestRegressor</label><div class=\"sk-toggleable__content\"><pre>RandomForestRegressor()</pre></div></div></div></div></div>"
      ],
      "text/plain": [
       "RandomForestRegressor()"
      ]
     },
     "execution_count": 66,
     "metadata": {},
     "output_type": "execute_result"
    }
   ],
   "source": [
    "# Creo una instancia del modelo RandomForestRegressor.\n",
    "forest_reg = RandomForestRegressor()\n",
    "\n",
    "# Selecciono los datos que utilizaré para el modelo.\n",
    "X = score_features_transformed\n",
    "y = score_labels\n",
    "\n",
    "# Ajusto el modelo con los datos.\n",
    "forest_reg.fit(X, y)"
   ]
  },
  {
   "cell_type": "code",
   "execution_count": 71,
   "metadata": {},
   "outputs": [
    {
     "data": {
      "text/plain": [
       "0.46958099668332404"
      ]
     },
     "execution_count": 71,
     "metadata": {},
     "output_type": "execute_result"
    }
   ],
   "source": [
    "# Calculamos el mean_squared_error o error cuadrático medio para verificar la eficacia del modelo.\n",
    "predictions = forest_reg.predict(score_features_transformed)\n",
    "forest_mse = mean_squared_error(score_labels, predictions)\n",
    "forest_rmse = np.sqrt(forest_mse)\n",
    "forest_rmse"
   ]
  },
  {
   "attachments": {},
   "cell_type": "markdown",
   "metadata": {},
   "source": [
    "---"
   ]
  },
  {
   "attachments": {},
   "cell_type": "markdown",
   "metadata": {},
   "source": [
    "#### ◦ Ponemos a prueba el modelo:"
   ]
  },
  {
   "cell_type": "code",
   "execution_count": 77,
   "metadata": {},
   "outputs": [],
   "source": [
    "test_data = score_features.iloc[:20]\n",
    "test_labels = score_labels.iloc[:20]\n",
    "test_data_transformed = num_pipeline.transform(test_data)"
   ]
  },
  {
   "cell_type": "code",
   "execution_count": 78,
   "metadata": {},
   "outputs": [
    {
     "name": "stdout",
     "output_type": "stream",
     "text": [
      "Predicción: [1.61, 4.64, 4.74, 4.02, 4.19, 4.71, 1.6933333333333331, 4.8425, 4.145, 4.1, 4.78, 3.96, 2.59, 2.07, 3.45, 4.89, 4.21, 4.9383333333333335, 3.97, 4.77] \n",
      "Real: [1, 5, 5, 4, 4, 5, 1, 5, 4, 4, 5, 4, 1, 2, 3, 5, 4, 5, 4, 5]\n"
     ]
    }
   ],
   "source": [
    "print('Predicción: {} \\nReal: {}'.format(list(forest_reg.predict(test_data_transformed)), list(test_labels.values)))"
   ]
  }
 ],
 "metadata": {
  "kernelspec": {
   "display_name": "Python 3",
   "language": "python",
   "name": "python3"
  },
  "language_info": {
   "codemirror_mode": {
    "name": "ipython",
    "version": 3
   },
   "file_extension": ".py",
   "mimetype": "text/x-python",
   "name": "python",
   "nbconvert_exporter": "python",
   "pygments_lexer": "ipython3",
   "version": "3.10.9"
  },
  "orig_nbformat": 4,
  "vscode": {
   "interpreter": {
    "hash": "44d3ed05258f152881e28b8136eaaf316ae518e4ddefaed6dc3616d7f53dc43d"
   }
  }
 },
 "nbformat": 4,
 "nbformat_minor": 2
}
